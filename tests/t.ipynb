{
 "nbformat": 4,
 "nbformat_minor": 2,
 "metadata": {
  "language_info": {
   "name": "python",
   "codemirror_mode": {
    "name": "ipython",
    "version": 3
   },
   "version": "3.8.0-final"
  },
  "orig_nbformat": 2,
  "file_extension": ".py",
  "mimetype": "text/x-python",
  "name": "python",
  "npconvert_exporter": "python",
  "pygments_lexer": "ipython3",
  "version": 3,
  "kernelspec": {
   "name": "python38064bitedavizpipenv8b133a94a5e949ceb4bbb30ea059e9e1",
   "display_name": "Python 3.8.0 64-bit ('edaviz': pipenv)"
  }
 },
 "cells": [
  {
   "cell_type": "markdown",
   "execution_count": null,
   "metadata": {},
   "outputs": [],
   "source": [
    "# TEST SUR  NOTEBOOK\n",
    " "
   ]
  },
  {
   "cell_type": "markdown",
   "execution_count": null,
   "metadata": {},
   "outputs": [],
   "source": [
    "## Import"
   ]
  },
  {
   "cell_type": "code",
   "execution_count": 1,
   "metadata": {},
   "outputs": [],
   "source": [
    "import pandas as pd\n",
    "import numpy as np\n",
    "import os\n",
    "import operator"
   ]
  },
  {
   "cell_type": "code",
   "execution_count": 5,
   "metadata": {},
   "outputs": [
    {
     "ename": "ModuleNotFoundError",
     "evalue": "No module named 'edaviz'",
     "output_type": "error",
     "traceback": [
      "\u001b[0;31m---------------------------------------------------------------------------\u001b[0m",
      "\u001b[0;31mModuleNotFoundError\u001b[0m                       Traceback (most recent call last)",
      "\u001b[0;32m<ipython-input-5-ef79b9ba73c6>\u001b[0m in \u001b[0;36m<module>\u001b[0;34m\u001b[0m\n\u001b[0;32m----> 1\u001b[0;31m \u001b[0;32mimport\u001b[0m \u001b[0medaviz\u001b[0m\u001b[0;34m\u001b[0m\u001b[0;34m\u001b[0m\u001b[0m\n\u001b[0m",
      "\u001b[0;31mModuleNotFoundError\u001b[0m: No module named 'edaviz'"
     ]
    }
   ],
   "source": [
    "import edaviz"
   ]
  },
  {
   "cell_type": "markdown",
   "execution_count": null,
   "metadata": {},
   "outputs": [],
   "source": [
    "### Jeu test  --- TITANIC"
   ]
  },
  {
   "cell_type": "code",
   "execution_count": 0,
   "metadata": {},
   "outputs": [],
   "source": [
    "BASE = os.path.abspath('.')\n",
    "BASE_DIR = os.path.dirname(BASE)\n",
    "dataset = pd.read_csv(os.path.join(BASE, \"tests\", \"titanic.csv\"))\n",
    "dataset.info()"
   ]
  },
  {
   "cell_type": "code",
   "execution_count": 0,
   "metadata": {},
   "outputs": [],
   "source": [
    "age = dataset.Age\n",
    "fare = dataset.Fare\n",
    "survived = dataset.Survived\n",
    "sex = dataset.Sex"
   ]
  },
  {
   "cell_type": "markdown",
   "execution_count": null,
   "metadata": {},
   "outputs": [],
   "source": [
    "## Transformation test"
   ]
  },
  {
   "cell_type": "code",
   "execution_count": 0,
   "metadata": {},
   "outputs": [],
   "source": [
    "from edaviz import transformations as tr\n",
    "help(tr)"
   ]
  },
  {
   "cell_type": "code",
   "execution_count": 0,
   "metadata": {},
   "outputs": [],
   "source": [
    "test = tr.eliminer_colonne_vide(dataset, retourner_details=False)\n",
    "test\n",
    "# si rien ne pas faire de graph"
   ]
  },
  {
   "cell_type": "code",
   "execution_count": 0,
   "metadata": {},
   "outputs": [],
   "source": [
    "unique_data = tr.eliminer_doublons(tableau=dataset, colonnes_ciblees=None, strategie='première occurence')\n",
    "unique_data.info()"
   ]
  },
  {
   "cell_type": "markdown",
   "execution_count": null,
   "metadata": {},
   "outputs": [],
   "source": [
    "## Correlation test"
   ]
  },
  {
   "cell_type": "code",
   "execution_count": 0,
   "metadata": {},
   "outputs": [],
   "source": [
    "from edaviz import correlations as corr\n",
    "help(corr)"
   ]
  },
  {
   "cell_type": "markdown",
   "execution_count": null,
   "metadata": {},
   "outputs": [],
   "source": [
    "--- type"
   ]
  },
  {
   "cell_type": "code",
   "execution_count": 0,
   "metadata": {},
   "outputs": [],
   "source": [
    "age_type = corr.donner_type(age)\n",
    "fare_type = corr.donner_type(fare)\n",
    "sex_type = corr.donner_type(sex)\n",
    "survived_type = corr.donner_type(survived)\n",
    "age_type, fare_type, sex_type, survived_type"
   ]
  },
  {
   "cell_type": "markdown",
   "execution_count": null,
   "metadata": {},
   "outputs": [],
   "source": [
    "--- correlation qtv x qtv"
   ]
  },
  {
   "cell_type": "code",
   "execution_count": 0,
   "metadata": {},
   "outputs": [],
   "source": [
    "age_fare_cov = corr.calculer_covariance(age, fare)\n",
    "age_fare_cov"
   ]
  },
  {
   "cell_type": "code",
   "execution_count": 0,
   "metadata": {},
   "outputs": [],
   "source": [
    "age_fare_corr = corr.calculer_correlation_pearson(age, fare)\n",
    "round(age_fare_corr, 2)"
   ]
  },
  {
   "cell_type": "code",
   "execution_count": 0,
   "metadata": {},
   "outputs": [],
   "source": [
    "statistique, p_value, coefficient = corr.test_correlation_pearson(age, fare)\n",
    "statistique, p_value, coefficient"
   ]
  },
  {
   "cell_type": "markdown",
   "execution_count": null,
   "metadata": {},
   "outputs": [],
   "source": [
    "--- correlation qtv x qlt"
   ]
  },
  {
   "cell_type": "code",
   "execution_count": 0,
   "metadata": {},
   "outputs": [],
   "source": [
    "age_sex_corr = corr.test_correlation_eta_squared(age, sex)\n",
    "age_sex_corr"
   ]
  },
  {
   "cell_type": "markdown",
   "execution_count": null,
   "metadata": {},
   "outputs": [],
   "source": [
    "--- correlation qlt x qlt"
   ]
  },
  {
   "cell_type": "code",
   "execution_count": 0,
   "metadata": {},
   "outputs": [],
   "source": [
    "survived_sex_contingence = corr.calculer_tableau_contingence(survived, sex)\n",
    "survived_sex_contingence"
   ]
  },
  {
   "cell_type": "code",
   "execution_count": 0,
   "metadata": {},
   "outputs": [],
   "source": [
    "survived_sex_corr = corr.test_correlation_chi_squared(sex, survived)\n",
    "survived_sex_corr   "
   ]
  },
  {
   "cell_type": "markdown",
   "execution_count": null,
   "metadata": {},
   "outputs": [],
   "source": [
    "--- correlation generique"
   ]
  },
  {
   "cell_type": "code",
   "execution_count": 0,
   "metadata": {},
   "outputs": [],
   "source": [
    "age_fare_cor_gen = corr.test_de_correlation(age, fare)\n",
    "age_fare_cor_gen"
   ]
  },
  {
   "cell_type": "code",
   "execution_count": 0,
   "metadata": {},
   "outputs": [],
   "source": [
    "age_sex_cor_gen = corr.test_de_correlation(age, sex)\n",
    "age_sex_cor_gen"
   ]
  },
  {
   "cell_type": "code",
   "execution_count": 0,
   "metadata": {},
   "outputs": [],
   "source": [
    "survived_sex_cor_gen = corr.test_de_correlation(survived, sex)\n",
    "survived_sex_cor_gen"
   ]
  },
  {
   "cell_type": "markdown",
   "execution_count": null,
   "metadata": {},
   "outputs": [],
   "source": [
    "# Matrice test"
   ]
  },
  {
   "cell_type": "markdown",
   "execution_count": null,
   "metadata": {},
   "outputs": [],
   "source": [
    "--- compact form"
   ]
  },
  {
   "cell_type": "code",
   "execution_count": 0,
   "metadata": {},
   "outputs": [],
   "source": [
    "compacte_matrice = corr.matrice_de_correlation(tableau=unique_data, format_compact=True, calculer_autocorrelation=False)\n",
    "compacte_matrice"
   ]
  },
  {
   "cell_type": "markdown",
   "execution_count": null,
   "metadata": {},
   "outputs": [],
   "source": [
    "--- non compacte"
   ]
  },
  {
   "cell_type": "code",
   "execution_count": 0,
   "metadata": {},
   "outputs": [],
   "source": [
    "stat_mat, p_valeur_mat, coef_mat = corr.matrice_de_correlation(tableau=unique_data, format_compact=False, calculer_autocorrelation=False)\n",
    "coef_mat"
   ]
  },
  {
   "cell_type": "markdown",
   "execution_count": null,
   "metadata": {},
   "outputs": [],
   "source": [
    "--- cellules"
   ]
  },
  {
   "cell_type": "code",
   "execution_count": 0,
   "metadata": {},
   "outputs": [],
   "source": [
    "alpha = 0.5\n",
    "tolerance = .1\n",
    "alpha, tolerance"
   ]
  },
  {
   "cell_type": "code",
   "execution_count": 0,
   "metadata": {},
   "outputs": [],
   "source": [
    "corr.normaliser_significativite_booleen(p_valeur=p_valeur_mat, alpha=alpha, tolerance=tolerance)"
   ]
  },
  {
   "cell_type": "code",
   "execution_count": 0,
   "metadata": {},
   "outputs": [],
   "source": [
    "g = lambda x: max(0, (x - alpha) / (1 - alpha))\n",
    "[ list(map(g,l)) for l in p_valeur_mat ]"
   ]
  },
  {
   "cell_type": "code",
   "execution_count": 0,
   "metadata": {},
   "outputs": [],
   "source": [
    "f = lambda x: corr.normaliser_significativite_numerique(p_valeur=x, alpha=alpha, tolerance=tolerance, **{ 'valeur_sup': 1.0,\n",
    "                              'valeur_inf': tolerance,\n",
    "                              'pente': 3\n",
    "                            })\n",
    "data_cells = [ list(map(f,l)) for l in p_valeur_mat ]"
   ]
  },
  {
   "cell_type": "code",
   "execution_count": 0,
   "metadata": {},
   "outputs": [],
   "source": [
    "sign_mat = corr.matrice_de_significativite(p_valeur_mat, alpha, False, tolerance, **{ 'valeur_sup': 1.0,\n",
    "                              'valeur_inf': tolerance,\n",
    "                              'pente': 3\n",
    "                            })"
   ]
  },
  {
   "cell_type": "markdown",
   "execution_count": null,
   "metadata": {},
   "outputs": [],
   "source": [
    "# Heatmap test"
   ]
  },
  {
   "cell_type": "code",
   "execution_count": 0,
   "metadata": {},
   "outputs": [],
   "source": [
    "from edaviz import heatmaps as hmp\n",
    "help(hmp)"
   ]
  },
  {
   "cell_type": "code",
   "execution_count": 0,
   "metadata": {},
   "outputs": [],
   "source": [
    "sign_mat"
   ]
  },
  {
   "cell_type": "code",
   "execution_count": 0,
   "metadata": {},
   "outputs": [],
   "source": [
    "# rayon a looker\n",
    "# mesh à revoir\n",
    "hmp.custom_cells_heatmap(data=sign_mat, data_cells=data_cells, vmin=0, vmax=1, square_shaped_cells=False)"
   ]
  },
  {
   "cell_type": "code",
   "execution_count": null,
   "metadata": {},
   "outputs": [],
   "source": []
  }
 ]
}